{
 "cells": [
  {
   "cell_type": "markdown",
   "metadata": {},
   "source": [
    "# AAI Workshop 3\n",
    "\n",
    "## EXAMPLE: Sprinkler\n",
    "\n",
    "Let's consider the scenario in the figure, where the WetGrass can be caused a Sprinkler or the Rain, both of which depend on the Cloudy weather:\n",
    "\n",
    "![Sprinkler example](sprinkler_dag.jpg)\n",
    "\n",
    "\n",
    "We want to compute the probability distribution of the wet grass given that is cloudy.\n",
    "Let's start by exploiting the structure of the Bayesian Network to decompose the query:\n",
    "\n",
    "$$\n",
    "\\begin{align}\n",
    "{\\bf P}(W | c) &= \\alpha {\\bf P}(W, c) \\nonumber\\\\\n",
    "&= \\alpha \\sum_{R,S} {\\bf P}(W, c, R, S) \\nonumber\\\\\n",
    "&= \\alpha \\sum_{R,S} {\\bf P}(W | R, S) {\\bf P}(R | c) {\\bf P}(S | c) P(c) \\nonumber\\\\\n",
    "&= \\alpha P(c) \\sum_R {\\bf P}(R | c) \\sum_S {\\bf P}(W | R, S)  {\\bf P}(S | c)  \\nonumber\n",
    "\\end{align}\n",
    "$$\n",
    "\n",
    "We have four quantities. The first is the simple probability $P(c)$:"
   ]
  },
  {
   "cell_type": "code",
   "execution_count": 1,
   "metadata": {},
   "outputs": [],
   "source": [
    "P_c = 0.5\n",
    "P_W_RS = np.array([[[0.95, 0.90],[0.90, 0.10]],\n",
    "                   [[0.05, 0.10],[0.10, 0.90]]])"
   ]
  },
  {
   "cell_type": "markdown",
   "metadata": {},
   "source": [
    "The second is the distribution ${\\bf P}(R|c)$:"
   ]
  },
  {
   "cell_type": "code",
   "execution_count": 2,
   "metadata": {},
   "outputs": [
    {
     "name": "stdout",
     "output_type": "stream",
     "text": [
      "P(r|c) =  0.8\n",
      "P(¬r|c) =  0.2\n"
     ]
    }
   ],
   "source": [
    "import numpy as np\n",
    "\n",
    "# 'true' and 'false' indexes\n",
    "t, f = 0, 1\n",
    "\n",
    "P_R_c = np.array([0.8, 0.2])\n",
    "# this is a 2D vector, the elements of which can be accessed as follows\n",
    "print('P(r|c) = ', P_R_c[t])\n",
    "print('P(¬r|c) = ', P_R_c[f])"
   ]
  },
  {
   "cell_type": "markdown",
   "metadata": {},
   "source": [
    "The third is the distribution ${\\bf P}(W | R, S)$:"
   ]
  },
  {
   "cell_type": "code",
   "execution_count": 3,
   "metadata": {},
   "outputs": [
    {
     "name": "stdout",
     "output_type": "stream",
     "text": [
      "P(w|¬r,s) =  0.9\n"
     ]
    }
   ],
   "source": [
    "P_W_RS = np.array([[[0.95, 0.90],[0.90, 0.10]],\n",
    "                   [[0.05, 0.10],[0.10, 0.90]]])\n",
    "# this is a 2x2x2 matrix, the elements of which can be accessed as follows\n",
    "print('P(w|¬r,s) = ', P_W_RS[t,f,t])"
   ]
  },
  {
   "cell_type": "markdown",
   "metadata": {},
   "source": [
    "The last one is the distribution ${\\bf P}(S | c)$:"
   ]
  },
  {
   "cell_type": "code",
   "execution_count": 4,
   "metadata": {},
   "outputs": [],
   "source": [
    "P_S_c = np.array([0.1, 0.9])"
   ]
  },
  {
   "cell_type": "markdown",
   "metadata": {},
   "source": [
    "Starting from the right side of the query equation, we can sum out $S$ by computing ${\\bf P}(W | R, s) P(s | c) + {\\bf P}(W | R, \\neg s) P(\\neg s | c)$:"
   ]
  },
  {
   "cell_type": "code",
   "execution_count": 5,
   "metadata": {},
   "outputs": [
    {
     "name": "stdout",
     "output_type": "stream",
     "text": [
      "[[0.905 0.18 ]\n",
      " [0.095 0.82 ]]\n"
     ]
    }
   ],
   "source": [
    "Phi_S = P_W_RS[:,:,t] * P_S_c[t] + P_W_RS[:,:,f] * P_S_c[f]\n",
    "print(Phi_S)"
   ]
  },
  {
   "cell_type": "markdown",
   "metadata": {},
   "source": [
    "We remain with a 2x2 matrix indexed by $W$ and $R$, which we call $\\Phi_S(W, R)$ for short. We can then proceed by summing out $R$ with $P(r | c) \\Phi_S(W,r) + P(\\neg r | c) \\Phi_S(W,\\neg r)$:"
   ]
  },
  {
   "cell_type": "code",
   "execution_count": 6,
   "metadata": {},
   "outputs": [
    {
     "name": "stdout",
     "output_type": "stream",
     "text": [
      "[0.76 0.24]\n"
     ]
    }
   ],
   "source": [
    "Phi_R = P_R_c[t] * Phi_S[:,t] + P_R_c[f] * Phi_S[:,f]\n",
    "print(Phi_R)"
   ]
  },
  {
   "cell_type": "markdown",
   "metadata": {},
   "source": [
    "The result is a 2D vector indexed only by $W$, which we call $\\Phi_R(W)$. Multiplying the latter for $P(c)$ and normalising, we obtain the final distribution:"
   ]
  },
  {
   "cell_type": "code",
   "execution_count": 7,
   "metadata": {},
   "outputs": [
    {
     "name": "stdout",
     "output_type": "stream",
     "text": [
      "P(W|c) =  [0.76 0.24]\n"
     ]
    }
   ],
   "source": [
    "P_W_c = P_c * Phi_R\n",
    "P_W_c = P_W_c / sum(P_W_c)\n",
    "print('P(W|c) = ', P_W_c)"
   ]
  },
  {
   "cell_type": "markdown",
   "metadata": {},
   "source": [
    "Notice that the last step does not change the result because the previous sum was already normalised and $P(c)$ is just a constant that could be included in $\\alpha$.\n",
    "\n",
    "---\n",
    "\n",
    "## EXERCISE: Broad Street cholera outbreak\n",
    "\n",
    "The following is a simplified version of an example in Judea Pearl's *The Book of Why*. It refers to a case of cholera epidemic, caused by contaminated water, which killed hundreds of people in London between 1853 and 1854. The diagram below illustrates some of the key factors explaining this epidemic, in particular:\n",
    "- $X$ indicates whether the water company's intake was downstream of the London's sewers;\n",
    "- $W$ indicates whether the water was contaminated or not;\n",
    "- $Z$ indicates the presence of other external factors (e.g. poverty, miasma, etc.);\n",
    "- $Y$ indicates the outbreak of cholera.\n",
    "\n",
    "(please note the probabilities in the diagram are fake)\n",
    "\n",
    "![Cholera outbreak](cholera_dag.jpg)\n",
    "\n",
    "> - Formalise the problem using opportune mathematical notations and derive an expression for computing the probability distribution of the cholera given that the water company's intake is upstream (i.e. what is the query? how can it be decomposed?)\n",
    "> - Write a Python program that computes the actual probabilities of the above distribution using the information from the given CPTs.\n",
    "\n",
    "Write a short document (PDF, max 1 page) or Jupyter Notebook file (preferred) describing your solution and send it to **nbellotto@lincoln.ac.uk** with subject *AAI Workshop 3 - NAME SURNAME*. Please submit your work by the <u>3rd Nov 2020</u>. **It will not be graded, but only used by the lecturer to check the progress of the class**."
   ]
  },
  {
   "cell_type": "code",
   "execution_count": null,
   "metadata": {},
   "outputs": [],
   "source": []
  }
 ],
 "metadata": {
  "kernelspec": {
   "display_name": "Python 3",
   "language": "python",
   "name": "python3"
  },
  "language_info": {
   "codemirror_mode": {
    "name": "ipython",
    "version": 3
   },
   "file_extension": ".py",
   "mimetype": "text/x-python",
   "name": "python",
   "nbconvert_exporter": "python",
   "pygments_lexer": "ipython3",
   "version": "3.6.9"
  }
 },
 "nbformat": 4,
 "nbformat_minor": 4
}
