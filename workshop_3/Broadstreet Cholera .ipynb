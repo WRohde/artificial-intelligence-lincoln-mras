{
 "cells": [
  {
   "cell_type": "markdown",
   "metadata": {},
   "source": [
    "# Broad street Cholera Outbreak\n",
    "\n",
    "The following is a simplified version of an example in Judea Pearl's *The Book of Why*. It refers to a case of cholera epidemic, caused by contaminated water, which killed hundreds of people in London between 1853 and 1854. The diagram below illustrates some of the key factors explaining this epidemic, in particular:\n",
    "- $X$ indicates whether the water company's intake was downstream of the London's sewers;\n",
    "- $W$ indicates whether the water was contaminated or not;\n",
    "- $Z$ indicates the presence of other external factors (e.g. poverty, miasma, etc.);\n",
    "- $Y$ indicates the outbreak of cholera.\n",
    "\n",
    "(please note the probabilities in the diagram are fake)\n",
    "\n",
    "![Cholera outbreak](cholera_dag.jpg)\n",
    "\n",
    "> - Formalise the problem using opportune mathematical notations and derive an expression for computing the probability distribution of the cholera given that the water company's intake is upstream (i.e. what is the query? how can it be decomposed?)\n",
    "> - Write a Python program that computes the actual probabilities of the above distribution using the information from the given CPTs."
   ]
  },
  {
   "cell_type": "code",
   "execution_count": 1,
   "metadata": {},
   "outputs": [],
   "source": [
    "import numpy as np\n",
    "\n",
    "#true and false indices\n",
    "t,f = 0,1 "
   ]
  },
  {
   "cell_type": "code",
   "execution_count": 14,
   "metadata": {},
   "outputs": [],
   "source": [
    "#P(X)\n",
    "p_x = np.array([0.5,0.5])\n",
    "\n",
    "#P(Z)\n",
    "p_z = np.array([0.25,0.75])\n",
    "\n",
    "#P(W|X,Z)\n",
    "p_w_xz = np.array([[[0.9,0.85],[0.1,0.02]],\n",
    "                   [[0.1,0.15],[0.9,0.98]]])\n",
    "\n",
    "#P(y|W,Z)\n",
    "p_y_wz = np.array([[[0.8,0.75],[0.15,0.05]],\n",
    "                   [[0.2,0.25],[0.85,0.95]]])"
   ]
  },
  {
   "cell_type": "code",
   "execution_count": 13,
   "metadata": {},
   "outputs": [
    {
     "ename": "NameError",
     "evalue": "name 'p_y_ZX' is not defined",
     "output_type": "error",
     "traceback": [
      "\u001b[0;31m---------------------------------------------------------------------------\u001b[0m",
      "\u001b[0;31mNameError\u001b[0m                                 Traceback (most recent call last)",
      "\u001b[0;32m<ipython-input-13-6e056f007ebb>\u001b[0m in \u001b[0;36m<module>\u001b[0;34m\u001b[0m\n\u001b[1;32m      1\u001b[0m \u001b[0;31m#goal is to calculate probababilty of Y given the state of independent variables X and Z\u001b[0m\u001b[0;34m\u001b[0m\u001b[0;34m\u001b[0m\u001b[0;34m\u001b[0m\u001b[0m\n\u001b[0;32m----> 2\u001b[0;31m \u001b[0mp_y_ZX\u001b[0m\u001b[0;34m\u001b[0m\u001b[0;34m\u001b[0m\u001b[0m\n\u001b[0m",
      "\u001b[0;31mNameError\u001b[0m: name 'p_y_ZX' is not defined"
     ]
    }
   ],
   "source": [
    "#goal is to calculate probababilty of Y given the state of independent variables X and Z\n",
    "p_y_z_x = "
   ]
  },
  {
   "cell_type": "code",
   "execution_count": null,
   "metadata": {},
   "outputs": [],
   "source": []
  }
 ],
 "metadata": {
  "kernelspec": {
   "display_name": "Python 3",
   "language": "python",
   "name": "python3"
  },
  "language_info": {
   "codemirror_mode": {
    "name": "ipython",
    "version": 3
   },
   "file_extension": ".py",
   "mimetype": "text/x-python",
   "name": "python",
   "nbconvert_exporter": "python",
   "pygments_lexer": "ipython3",
   "version": "3.6.9"
  }
 },
 "nbformat": 4,
 "nbformat_minor": 2
}
