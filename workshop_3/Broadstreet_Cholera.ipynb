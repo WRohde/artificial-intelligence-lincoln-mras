{
 "cells": [
  {
   "cell_type": "markdown",
   "metadata": {},
   "source": [
    "# Broad street Cholera Outbreak\n",
    "\n",
    "The following is a simplified version of an example in Judea Pearl's *The Book of Why*. It refers to a case of cholera epidemic, caused by contaminated water, which killed hundreds of people in London between 1853 and 1854. The diagram below illustrates some of the key factors explaining this epidemic, in particular:\n",
    "- $X$ indicates whether the water company's intake was downstream of the London's sewers;\n",
    "- $W$ indicates whether the water was contaminated or not;\n",
    "- $Z$ indicates the presence of other external factors (e.g. poverty, miasma, etc.);\n",
    "- $Y$ indicates the outbreak of cholera.\n",
    "\n",
    "(please note the probabilities in the diagram are fake)\n",
    "\n",
    "![Cholera outbreak](cholera_dag.jpg)\n",
    "\n",
    "> - Formalise the problem using opportune mathematical notations and derive an expression for computing the probability distribution of the cholera given that the water company's intake is upstream (i.e. what is the query? how can it be decomposed?)\n",
    "> - Write a Python program that computes the actual probabilities of the above distribution using the information from the given CPTs."
   ]
  },
  {
   "cell_type": "code",
   "execution_count": 56,
   "metadata": {},
   "outputs": [],
   "source": [
    "import numpy as np\n",
    "\n",
    "#true and false indices\n",
    "t,f = 0,1 \n",
    "\n",
    "class BroadStreetCholera:\n",
    "    def __init__(self,p_x,p_z,p_w_xz):\n",
    "        self.p_x = p_x\n",
    "        self.p_z = p_z\n",
    "        self.p_w_xz = p_w_xz\n",
    "        self.p_y_wz = p_y_wz\n",
    "        self.calculate_p_w()\n",
    "        self.calculate_p_y()\n",
    "    \n",
    "    def calculate_p_w(self):\n",
    "        p_w= [0,0]\n",
    "            \n",
    "        p_w_xz = self.p_w_xz\n",
    "        p_x = self.p_x\n",
    "        p_z = self.p_z\n",
    "        \n",
    "        p_w[t] += p_w_xz[t,t,t]*p_x[t]*p_z[t] \n",
    "        p_w[t] += p_w_xz[t,f,t]*p_x[f]*p_z[t]\n",
    "        p_w[t] += p_w_xz[t,t,f]*p_x[t]*p_z[f]\n",
    "        p_w[t] += p_w_xz[t,f,f]*p_x[f]*p_z[f]\n",
    "\n",
    "        p_w[f] = 1 - p_w[t]\n",
    "        \n",
    "        self.p_w = p_w\n",
    "    \n",
    "    def calculate_p_y(self):\n",
    "        p_y = [0,0]\n",
    "        \n",
    "        p_y_wz = self.p_y_wz\n",
    "        p_w = self.p_w\n",
    "        p_z = self.p_z\n",
    "        \n",
    "        p_y[t] += p_y_wz[t,t,t]*p_w[t]*p_z[t]\n",
    "        p_y[t] += p_y_wz[t,f,t]*p_w[f]*p_z[t]\n",
    "        p_y[t] += p_y_wz[t,t,f]*p_w[t]*p_z[f]\n",
    "        p_y[t] += p_y_wz[t,f,f]*p_w[f]*p_z[f]\n",
    "        \n",
    "        p_y[f] = 1 - p_w[t]\n",
    "        \n",
    "        self.p_y = p_y"
   ]
  },
  {
   "cell_type": "code",
   "execution_count": 57,
   "metadata": {},
   "outputs": [],
   "source": [
    "#P(X)\n",
    "p_x = np.array([0.5,0.5])\n",
    "\n",
    "#P(Z)\n",
    "p_z = np.array([0.25,0.75])\n",
    "\n",
    "#P(W|X,Z)\n",
    "p_w_xz = np.array([[[0.9,0.85],[0.1,0.02]],\n",
    "                   [[0.1,0.15],[0.9,0.98]]])\n",
    "\n",
    "#p(y|W,Z)\n",
    "p_y_wz = np.array([[[0.8,0.75],[0.15,0.05]],\n",
    "                   [[0.2,0.25],[0.85,0.95]]])"
   ]
  },
  {
   "cell_type": "markdown",
   "metadata": {},
   "source": [
    "the probability of cholera given that the intake is upstream, i.e P(x)= [0,1]\n",
    "\n",
    "$$\n",
    "\\begin{align}\n",
    "{\\bf P}(Y| x) &= \\alpha {\\bf P}(X, c) \\nonumber\\\\\n",
    "&= \\alpha \\sum_{W,Z} {\\bf P}(Y, x, W, Z) \\nonumber\\\\\n",
    "&= \\alpha \\sum_{x,Z} {\\bf P}(W | Z, x) {\\bf P}(x) {\\bf P}(Z)\\nonumber\\\\\n",
    "\\end{align}\n",
    "$$\n"
   ]
  },
  {
   "cell_type": "code",
   "execution_count": 58,
   "metadata": {},
   "outputs": [
    {
     "name": "stdout",
     "output_type": "stream",
     "text": [
      "the probability of cholera given X is true is: 0.10250000000000001\n"
     ]
    }
   ],
   "source": [
    "BSC_XTrue = BroadStreetCholera(np.array([0,1]),p_z,p_w_xz)\n",
    "\n",
    "print(\"the probability of cholera given X is False is: {}\".format(BSC_XTrue.p_y[0]))"
   ]
  },
  {
   "cell_type": "markdown",
   "metadata": {},
   "source": [
    "Probabilities of X Y Z W for the Broad Street Cholera distribution"
   ]
  },
  {
   "cell_type": "code",
   "execution_count": 51,
   "metadata": {},
   "outputs": [
    {
     "name": "stdout",
     "output_type": "stream",
     "text": [
      "p(X):  [0.5 0.5]\n",
      "p(Y):  [0.385234375, 0.5487500000000001]\n",
      "p(Z):  [0.25 0.75]\n",
      "p(W):  [0.45125, 0.5487500000000001]\n"
     ]
    }
   ],
   "source": [
    "BSC = BroadStreetCholera(p_x,p_z,p_w_xz)\n",
    "print(\"p(X): \",BSC.p_x)\n",
    "print(\"p(Y): \",BSC.p_y)\n",
    "print(\"p(Z): \",BSC.p_z)\n",
    "print(\"p(W): \",BSC.p_w)"
   ]
  },
  {
   "cell_type": "code",
   "execution_count": null,
   "metadata": {},
   "outputs": [],
   "source": []
  }
 ],
 "metadata": {
  "kernelspec": {
   "display_name": "Python 3",
   "language": "python",
   "name": "python3"
  },
  "language_info": {
   "codemirror_mode": {
    "name": "ipython",
    "version": 3
   },
   "file_extension": ".py",
   "mimetype": "text/x-python",
   "name": "python",
   "nbconvert_exporter": "python",
   "pygments_lexer": "ipython3",
   "version": "3.6.9"
  }
 },
 "nbformat": 4,
 "nbformat_minor": 2
}
